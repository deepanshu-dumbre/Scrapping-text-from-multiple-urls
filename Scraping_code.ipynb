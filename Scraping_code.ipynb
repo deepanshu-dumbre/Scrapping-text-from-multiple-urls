{
 "cells": [
  {
   "cell_type": "code",
   "execution_count": null,
   "id": "5778fb71",
   "metadata": {},
   "outputs": [],
   "source": [
    "# Importing packages and Reading the Textfile"
   ]
  },
  {
   "cell_type": "code",
   "execution_count": 1,
   "id": "c46250fc",
   "metadata": {},
   "outputs": [],
   "source": [
    "import requests\n",
    "from bs4 import BeautifulSoup\n",
    "import pandas as pd\n",
    "links = pd.read_csv(\"D:\\Webscrapping\\links.txt\")"
   ]
  },
  {
   "cell_type": "code",
   "execution_count": 2,
   "id": "8b5f4c62",
   "metadata": {},
   "outputs": [],
   "source": [
    "headers = {\n",
    "    'User-Agent': 'Mozilla/5.0 (Macintosh; Intel Mac OS X 10.12; rv:55.0) Gecko/20100101 Firefox/55.0',\n",
    "}"
   ]
  },
  {
   "cell_type": "code",
   "execution_count": null,
   "id": "4efb64db",
   "metadata": {},
   "outputs": [],
   "source": [
    "# Looping through the urls present in the links.text file and scraping the text"
   ]
  },
  {
   "cell_type": "code",
   "execution_count": 6,
   "id": "b3103654",
   "metadata": {},
   "outputs": [],
   "source": [
    "with open('links.txt') as f:\n",
    "    urls = f.read().splitlines()\n",
    "for index, url in enumerate(urls):\n",
    "    req = requests.get(url, headers=headers)\n",
    "    soup = BeautifulSoup(req.content, 'html.parser')\n",
    "    names = soup.find('div', class_='td-post-content')\n",
    "    with open(f\"scraped_{index}.txt\", \"w\", encoding=\"utf-8\") as file:\n",
    "        file.write(str(names.get_text()))"
   ]
  },
  {
   "cell_type": "code",
   "execution_count": null,
   "id": "b8d19c52",
   "metadata": {},
   "outputs": [],
   "source": [
    "# The scraped data will finally be saved as a text file in your local system"
   ]
  }
 ],
 "metadata": {
  "kernelspec": {
   "display_name": "Python 3 (ipykernel)",
   "language": "python",
   "name": "python3"
  },
  "language_info": {
   "codemirror_mode": {
    "name": "ipython",
    "version": 3
   },
   "file_extension": ".py",
   "mimetype": "text/x-python",
   "name": "python",
   "nbconvert_exporter": "python",
   "pygments_lexer": "ipython3",
   "version": "3.9.7"
  }
 },
 "nbformat": 4,
 "nbformat_minor": 5
}
